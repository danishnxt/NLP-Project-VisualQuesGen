{
 "cells": [
  {
   "cell_type": "code",
   "execution_count": 28,
   "metadata": {},
   "outputs": [],
   "source": [
    "import numpy as np\n",
    "import pandas as pd\n",
    "import os"
   ]
  },
  {
   "cell_type": "code",
   "execution_count": 29,
   "metadata": {},
   "outputs": [],
   "source": [
    "allcsvs = 'C:\\\\Users\\\\danishNXT\\\\Dropbox\\\\Work 2019\\\\Fall Semester Stuff\\\\SPROJ\\\\Dataset\\\\Original\\\\'\n",
    "allImg = 'C:\\\\MsData\\\\'"
   ]
  },
  {
   "cell_type": "code",
   "execution_count": 30,
   "metadata": {},
   "outputs": [
    {
     "data": {
      "text/plain": [
       "['C:\\\\Users\\\\danishNXT\\\\Dropbox\\\\Work 2019\\\\Fall Semester Stuff\\\\SPROJ\\\\Dataset\\\\Original\\\\train_all.csv',\n",
       " 'C:\\\\Users\\\\danishNXT\\\\Dropbox\\\\Work 2019\\\\Fall Semester Stuff\\\\SPROJ\\\\Dataset\\\\Original\\\\test_all.csv',\n",
       " 'C:\\\\Users\\\\danishNXT\\\\Dropbox\\\\Work 2019\\\\Fall Semester Stuff\\\\SPROJ\\\\Dataset\\\\Original\\\\val_all.csv']"
      ]
     },
     "execution_count": 30,
     "metadata": {},
     "output_type": "execute_result"
    }
   ],
   "source": [
    "totalTypes = ['train', 'test', 'val']\n",
    "csvFiles = [allcsvs + ('{}_all.csv'.format(x)) for x in totalTypes]\n",
    "csvFiles"
   ]
  },
  {
   "cell_type": "code",
   "execution_count": 31,
   "metadata": {},
   "outputs": [
    {
     "data": {
      "text/html": [
       "<div>\n",
       "<style scoped>\n",
       "    .dataframe tbody tr th:only-of-type {\n",
       "        vertical-align: middle;\n",
       "    }\n",
       "\n",
       "    .dataframe tbody tr th {\n",
       "        vertical-align: top;\n",
       "    }\n",
       "\n",
       "    .dataframe thead th {\n",
       "        text-align: right;\n",
       "    }\n",
       "</style>\n",
       "<table border=\"1\" class=\"dataframe\">\n",
       "  <thead>\n",
       "    <tr style=\"text-align: right;\">\n",
       "      <th></th>\n",
       "      <th>image_id</th>\n",
       "      <th>image_url</th>\n",
       "      <th>questions</th>\n",
       "    </tr>\n",
       "  </thead>\n",
       "  <tbody>\n",
       "    <tr>\n",
       "      <th>0</th>\n",
       "      <td>90fbd03d-8de1-45e8-bd57-26419ac2fc31</td>\n",
       "      <td>http://www.davespianolessons.com/images/P13Z.jpg</td>\n",
       "      <td>Is the child a prodigy?---How long was the pra...</td>\n",
       "    </tr>\n",
       "    <tr>\n",
       "      <th>1</th>\n",
       "      <td>1236e320-0e85-42c5-9717-f1afffe3e41e</td>\n",
       "      <td>http://images5.fanpop.com/image/photos/2690000...</td>\n",
       "      <td>Why is Anne so surprised?---Why is she excited...</td>\n",
       "    </tr>\n",
       "    <tr>\n",
       "      <th>2</th>\n",
       "      <td>6e0b9faa-ad41-449b-9c3d-ff570e1568cd</td>\n",
       "      <td>http://rack.3.mshcdn.com/media/ZgkyMDEzLzA0LzI...</td>\n",
       "      <td>Why is this man in handcuffs?---Why is this ma...</td>\n",
       "    </tr>\n",
       "    <tr>\n",
       "      <th>3</th>\n",
       "      <td>3415bdf8-5f4b-4c7f-9522-7b510c359e83</td>\n",
       "      <td>http://3.bp.blogspot.com/-ab0Cd4ZbYTw/Thhb-MBq...</td>\n",
       "      <td>Are those all dairy cows?---Why are these chil...</td>\n",
       "    </tr>\n",
       "    <tr>\n",
       "      <th>4</th>\n",
       "      <td>3dc18299-6d97-4e0d-9e43-408f95b690f8</td>\n",
       "      <td>http://playerstrust.org/wp-content/uploads/201...</td>\n",
       "      <td>What kind of team is this?---What does the act...</td>\n",
       "    </tr>\n",
       "  </tbody>\n",
       "</table>\n",
       "</div>"
      ],
      "text/plain": [
       "                               image_id  \\\n",
       "0  90fbd03d-8de1-45e8-bd57-26419ac2fc31   \n",
       "1  1236e320-0e85-42c5-9717-f1afffe3e41e   \n",
       "2  6e0b9faa-ad41-449b-9c3d-ff570e1568cd   \n",
       "3  3415bdf8-5f4b-4c7f-9522-7b510c359e83   \n",
       "4  3dc18299-6d97-4e0d-9e43-408f95b690f8   \n",
       "\n",
       "                                           image_url  \\\n",
       "0   http://www.davespianolessons.com/images/P13Z.jpg   \n",
       "1  http://images5.fanpop.com/image/photos/2690000...   \n",
       "2  http://rack.3.mshcdn.com/media/ZgkyMDEzLzA0LzI...   \n",
       "3  http://3.bp.blogspot.com/-ab0Cd4ZbYTw/Thhb-MBq...   \n",
       "4  http://playerstrust.org/wp-content/uploads/201...   \n",
       "\n",
       "                                           questions  \n",
       "0  Is the child a prodigy?---How long was the pra...  \n",
       "1  Why is Anne so surprised?---Why is she excited...  \n",
       "2  Why is this man in handcuffs?---Why is this ma...  \n",
       "3  Are those all dairy cows?---Why are these chil...  \n",
       "4  What kind of team is this?---What does the act...  "
      ]
     },
     "execution_count": 31,
     "metadata": {},
     "output_type": "execute_result"
    }
   ],
   "source": [
    "# pandas dataframe \n",
    "dfA = pd.read_csv(csvFiles[0])\n",
    "dfB = pd.read_csv(csvFiles[1])\n",
    "dfC = pd.read_csv(csvFiles[2])\n",
    "\n",
    "frames = [dfA, dfB, dfC]\n",
    "df = pd.concat(frames, sort=False)\n",
    "df.head()"
   ]
  },
  {
   "cell_type": "code",
   "execution_count": 32,
   "metadata": {},
   "outputs": [
    {
     "data": {
      "text/plain": [
       "13117"
      ]
     },
     "execution_count": 32,
     "metadata": {},
     "output_type": "execute_result"
    }
   ],
   "source": [
    "all_images_names = set(n.rpartition('.')[0] for n in os.listdir(allImg))\n",
    "len(all_images_names)"
   ]
  },
  {
   "cell_type": "code",
   "execution_count": 33,
   "metadata": {},
   "outputs": [],
   "source": [
    "wordList = set()\n",
    "all_images = []\n",
    "all_questions = []\n",
    "\n",
    "for i,row in df.iterrows():\n",
    "    if row['image_id'] not in all_images_names:\n",
    "        continue\n",
    "    \n",
    "    questions = row['questions'].split('---')\n",
    "    for question in questions:\n",
    "        if '?' in question:\n",
    "            question = question[:question.index('?')]\n",
    "            \n",
    "            # remove extra quotes around words\n",
    "            words = question.split()\n",
    "            new_words = []\n",
    "            for word in words:\n",
    "                new_word = word\n",
    "                if word[0] in ['\"', \"'\"]:\n",
    "                    new_word = word[1:]\n",
    "                if new_word[-1] in ['\"', \"'\"]:\n",
    "                    new_word = new_word[:-1]\n",
    "                new_words.append(new_word)\n",
    "            question = ' '.join(new_words)\n",
    "            \n",
    "            question = '<start> ' + question.lower() + ' <end>'\n",
    "            if (len(question.split()) <= 20):\n",
    "                wordList.update(question.split())\n",
    "                all_images.append(row['image_id'])\n",
    "                all_questions.append(question)"
   ]
  },
  {
   "cell_type": "code",
   "execution_count": 9,
   "metadata": {},
   "outputs": [
    {
     "name": "stdout",
     "output_type": "stream",
     "text": [
      "longer\n",
      "longer\n"
     ]
    }
   ],
   "source": [
    "# all_questions_new = []\n",
    "\n",
    "# for q in all_questions:\n",
    "#     if len(q.split()) <= 20:\n",
    "#         all_questions_new.append(q)\n",
    "#     else:\n",
    "#         print (\"longer\")"
   ]
  },
  {
   "cell_type": "code",
   "execution_count": 34,
   "metadata": {},
   "outputs": [
    {
     "name": "stdout",
     "output_type": "stream",
     "text": [
      "(65215, 2)\n"
     ]
    },
    {
     "data": {
      "text/html": [
       "<div>\n",
       "<style scoped>\n",
       "    .dataframe tbody tr th:only-of-type {\n",
       "        vertical-align: middle;\n",
       "    }\n",
       "\n",
       "    .dataframe tbody tr th {\n",
       "        vertical-align: top;\n",
       "    }\n",
       "\n",
       "    .dataframe thead th {\n",
       "        text-align: right;\n",
       "    }\n",
       "</style>\n",
       "<table border=\"1\" class=\"dataframe\">\n",
       "  <thead>\n",
       "    <tr style=\"text-align: right;\">\n",
       "      <th></th>\n",
       "      <th>image_id</th>\n",
       "      <th>question</th>\n",
       "    </tr>\n",
       "  </thead>\n",
       "  <tbody>\n",
       "    <tr>\n",
       "      <th>0</th>\n",
       "      <td>90fbd03d-8de1-45e8-bd57-26419ac2fc31</td>\n",
       "      <td>&lt;start&gt; is the child a prodigy &lt;end&gt;</td>\n",
       "    </tr>\n",
       "    <tr>\n",
       "      <th>1</th>\n",
       "      <td>90fbd03d-8de1-45e8-bd57-26419ac2fc31</td>\n",
       "      <td>&lt;start&gt; how long was the practice &lt;end&gt;</td>\n",
       "    </tr>\n",
       "    <tr>\n",
       "      <th>2</th>\n",
       "      <td>90fbd03d-8de1-45e8-bd57-26419ac2fc31</td>\n",
       "      <td>&lt;start&gt; has this boy been practicing often &lt;end&gt;</td>\n",
       "    </tr>\n",
       "    <tr>\n",
       "      <th>3</th>\n",
       "      <td>90fbd03d-8de1-45e8-bd57-26419ac2fc31</td>\n",
       "      <td>&lt;start&gt; does the student end up mastering the ...</td>\n",
       "    </tr>\n",
       "    <tr>\n",
       "      <th>4</th>\n",
       "      <td>90fbd03d-8de1-45e8-bd57-26419ac2fc31</td>\n",
       "      <td>&lt;start&gt; what is he teaching her &lt;end&gt;</td>\n",
       "    </tr>\n",
       "    <tr>\n",
       "      <th>5</th>\n",
       "      <td>1236e320-0e85-42c5-9717-f1afffe3e41e</td>\n",
       "      <td>&lt;start&gt; why is anne so surprised &lt;end&gt;</td>\n",
       "    </tr>\n",
       "    <tr>\n",
       "      <th>6</th>\n",
       "      <td>1236e320-0e85-42c5-9717-f1afffe3e41e</td>\n",
       "      <td>&lt;start&gt; why is she excited &lt;end&gt;</td>\n",
       "    </tr>\n",
       "    <tr>\n",
       "      <th>7</th>\n",
       "      <td>1236e320-0e85-42c5-9717-f1afffe3e41e</td>\n",
       "      <td>&lt;start&gt; how much did she get paid to be in thi...</td>\n",
       "    </tr>\n",
       "    <tr>\n",
       "      <th>8</th>\n",
       "      <td>1236e320-0e85-42c5-9717-f1afffe3e41e</td>\n",
       "      <td>&lt;start&gt; what movie is this scene from &lt;end&gt;</td>\n",
       "    </tr>\n",
       "    <tr>\n",
       "      <th>9</th>\n",
       "      <td>1236e320-0e85-42c5-9717-f1afffe3e41e</td>\n",
       "      <td>&lt;start&gt; what movie was this from &lt;end&gt;</td>\n",
       "    </tr>\n",
       "  </tbody>\n",
       "</table>\n",
       "</div>"
      ],
      "text/plain": [
       "                               image_id  \\\n",
       "0  90fbd03d-8de1-45e8-bd57-26419ac2fc31   \n",
       "1  90fbd03d-8de1-45e8-bd57-26419ac2fc31   \n",
       "2  90fbd03d-8de1-45e8-bd57-26419ac2fc31   \n",
       "3  90fbd03d-8de1-45e8-bd57-26419ac2fc31   \n",
       "4  90fbd03d-8de1-45e8-bd57-26419ac2fc31   \n",
       "5  1236e320-0e85-42c5-9717-f1afffe3e41e   \n",
       "6  1236e320-0e85-42c5-9717-f1afffe3e41e   \n",
       "7  1236e320-0e85-42c5-9717-f1afffe3e41e   \n",
       "8  1236e320-0e85-42c5-9717-f1afffe3e41e   \n",
       "9  1236e320-0e85-42c5-9717-f1afffe3e41e   \n",
       "\n",
       "                                            question  \n",
       "0               <start> is the child a prodigy <end>  \n",
       "1            <start> how long was the practice <end>  \n",
       "2   <start> has this boy been practicing often <end>  \n",
       "3  <start> does the student end up mastering the ...  \n",
       "4              <start> what is he teaching her <end>  \n",
       "5             <start> why is anne so surprised <end>  \n",
       "6                   <start> why is she excited <end>  \n",
       "7  <start> how much did she get paid to be in thi...  \n",
       "8        <start> what movie is this scene from <end>  \n",
       "9             <start> what movie was this from <end>  "
      ]
     },
     "execution_count": 34,
     "metadata": {},
     "output_type": "execute_result"
    }
   ],
   "source": [
    "full_data = pd.DataFrame({'image_id': all_images, 'question': all_questions})\n",
    "print(full_data.shape)\n",
    "full_data.head(10)"
   ]
  },
  {
   "cell_type": "code",
   "execution_count": 35,
   "metadata": {},
   "outputs": [
    {
     "name": "stdout",
     "output_type": "stream",
     "text": [
      "20\n",
      "<start> did you not know that it is important to have the camera flash off when taking a selfie <end>\n"
     ]
    }
   ],
   "source": [
    "question_lengths = full_data['question'].str.split().apply(lambda e: len(e))\n",
    "print(question_lengths.max())\n",
    "print(full_data['question'].iloc[question_lengths.idxmax()])\n",
    "\n",
    "max_len = 20"
   ]
  },
  {
   "cell_type": "code",
   "execution_count": 36,
   "metadata": {},
   "outputs": [
    {
     "data": {
      "text/plain": [
       "10759"
      ]
     },
     "execution_count": 36,
     "metadata": {},
     "output_type": "execute_result"
    }
   ],
   "source": [
    "word2index = {val:index for index, val in enumerate(sorted(wordList))}\n",
    "index2word = np.array(list(word2index.keys()))\n",
    "len(word2index)"
   ]
  },
  {
   "cell_type": "code",
   "execution_count": 37,
   "metadata": {},
   "outputs": [
    {
     "name": "stdout",
     "output_type": "stream",
     "text": [
      "78\n",
      "77\n"
     ]
    }
   ],
   "source": [
    "print (word2index['<start>'])\n",
    "print (word2index['<end>'])"
   ]
  },
  {
   "cell_type": "code",
   "execution_count": 38,
   "metadata": {},
   "outputs": [],
   "source": [
    "def pad(ques):\n",
    "    words = ques.split()\n",
    "    \n",
    "    padding = ['<end>' for _ in range(max_len - len(words))]\n",
    "    full_ques = words + padding\n",
    "    return full_ques\n",
    "\n",
    "def to_categorical(ques_words):\n",
    "    return [ word2index[w] for w in ques_words ]"
   ]
  },
  {
   "cell_type": "code",
   "execution_count": 39,
   "metadata": {},
   "outputs": [
    {
     "data": {
      "text/html": [
       "<div>\n",
       "<style scoped>\n",
       "    .dataframe tbody tr th:only-of-type {\n",
       "        vertical-align: middle;\n",
       "    }\n",
       "\n",
       "    .dataframe tbody tr th {\n",
       "        vertical-align: top;\n",
       "    }\n",
       "\n",
       "    .dataframe thead th {\n",
       "        text-align: right;\n",
       "    }\n",
       "</style>\n",
       "<table border=\"1\" class=\"dataframe\">\n",
       "  <thead>\n",
       "    <tr style=\"text-align: right;\">\n",
       "      <th></th>\n",
       "      <th>image_id</th>\n",
       "      <th>question</th>\n",
       "    </tr>\n",
       "  </thead>\n",
       "  <tbody>\n",
       "    <tr>\n",
       "      <th>0</th>\n",
       "      <td>90fbd03d-8de1-45e8-bd57-26419ac2fc31</td>\n",
       "      <td>[78, 4989, 9617, 1735, 79, 7325, 77, 77, 77, 7...</td>\n",
       "    </tr>\n",
       "    <tr>\n",
       "      <th>1</th>\n",
       "      <td>90fbd03d-8de1-45e8-bd57-26419ac2fc31</td>\n",
       "      <td>[78, 4685, 5556, 10363, 9617, 7212, 77, 77, 77...</td>\n",
       "    </tr>\n",
       "    <tr>\n",
       "      <th>2</th>\n",
       "      <td>90fbd03d-8de1-45e8-bd57-26419ac2fc31</td>\n",
       "      <td>[78, 4408, 9660, 1135, 842, 7214, 6417, 77, 77...</td>\n",
       "    </tr>\n",
       "    <tr>\n",
       "      <th>3</th>\n",
       "      <td>90fbd03d-8de1-45e8-bd57-26419ac2fc31</td>\n",
       "      <td>[78, 2869, 9617, 9215, 3215, 10129, 5790, 9617...</td>\n",
       "    </tr>\n",
       "    <tr>\n",
       "      <th>4</th>\n",
       "      <td>90fbd03d-8de1-45e8-bd57-26419ac2fc31</td>\n",
       "      <td>[78, 10454, 4989, 4436, 9515, 4503, 77, 77, 77...</td>\n",
       "    </tr>\n",
       "  </tbody>\n",
       "</table>\n",
       "</div>"
      ],
      "text/plain": [
       "                               image_id  \\\n",
       "0  90fbd03d-8de1-45e8-bd57-26419ac2fc31   \n",
       "1  90fbd03d-8de1-45e8-bd57-26419ac2fc31   \n",
       "2  90fbd03d-8de1-45e8-bd57-26419ac2fc31   \n",
       "3  90fbd03d-8de1-45e8-bd57-26419ac2fc31   \n",
       "4  90fbd03d-8de1-45e8-bd57-26419ac2fc31   \n",
       "\n",
       "                                            question  \n",
       "0  [78, 4989, 9617, 1735, 79, 7325, 77, 77, 77, 7...  \n",
       "1  [78, 4685, 5556, 10363, 9617, 7212, 77, 77, 77...  \n",
       "2  [78, 4408, 9660, 1135, 842, 7214, 6417, 77, 77...  \n",
       "3  [78, 2869, 9617, 9215, 3215, 10129, 5790, 9617...  \n",
       "4  [78, 10454, 4989, 4436, 9515, 4503, 77, 77, 77...  "
      ]
     },
     "execution_count": 39,
     "metadata": {},
     "output_type": "execute_result"
    }
   ],
   "source": [
    "full_data['question'] = full_data['question'].apply(lambda q: to_categorical(pad(q)))\n",
    "full_data.head()"
   ]
  },
  {
   "cell_type": "code",
   "execution_count": 40,
   "metadata": {},
   "outputs": [],
   "source": [
    "full_data.to_csv('CTC_data.csv', index=False, header=True)\n",
    "with open('index2word.npy', 'wb') as f:\n",
    "    np.save(f, index2word)"
   ]
  },
  {
   "cell_type": "code",
   "execution_count": 41,
   "metadata": {},
   "outputs": [
    {
     "data": {
      "text/plain": [
       "(10759,)"
      ]
     },
     "execution_count": 41,
     "metadata": {},
     "output_type": "execute_result"
    }
   ],
   "source": [
    "index2word.shape"
   ]
  },
  {
   "cell_type": "code",
   "execution_count": 42,
   "metadata": {},
   "outputs": [],
   "source": [
    "with open('word2ind.npy', 'wb') as f:\n",
    "    np.save(f, word2index)"
   ]
  },
  {
   "cell_type": "code",
   "execution_count": null,
   "metadata": {
    "collapsed": true
   },
   "outputs": [],
   "source": []
  },
  {
   "cell_type": "code",
   "execution_count": null,
   "metadata": {
    "collapsed": true
   },
   "outputs": [],
   "source": []
  }
 ],
 "metadata": {
  "kernelspec": {
   "display_name": "Python 3",
   "language": "python",
   "name": "python3"
  },
  "language_info": {
   "codemirror_mode": {
    "name": "ipython",
    "version": 3
   },
   "file_extension": ".py",
   "mimetype": "text/x-python",
   "name": "python",
   "nbconvert_exporter": "python",
   "pygments_lexer": "ipython3",
   "version": "3.6.7"
  }
 },
 "nbformat": 4,
 "nbformat_minor": 2
}
